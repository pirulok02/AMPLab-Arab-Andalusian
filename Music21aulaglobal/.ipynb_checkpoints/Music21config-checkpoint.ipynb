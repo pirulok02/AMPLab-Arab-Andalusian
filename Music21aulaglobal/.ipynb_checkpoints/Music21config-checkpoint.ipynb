{
 "cells": [
  {
   "cell_type": "code",
   "execution_count": 2,
   "metadata": {},
   "outputs": [],
   "source": [
    "from music21 import *"
   ]
  },
  {
   "cell_type": "code",
   "execution_count": 3,
   "metadata": {},
   "outputs": [
    {
     "ename": "UserSettingsException",
     "evalue": "An environment configuration file already exists; simply set values to modify.",
     "output_type": "error",
     "traceback": [
      "\u001b[0;31m---------------------------------------------------------------------------\u001b[0m",
      "\u001b[0;31mUserSettingsException\u001b[0m                     Traceback (most recent call last)",
      "\u001b[0;32m<ipython-input-3-321418eb6ccd>\u001b[0m in \u001b[0;36m<module>\u001b[0;34m\u001b[0m\n\u001b[1;32m      1\u001b[0m \u001b[0mus\u001b[0m \u001b[0;34m=\u001b[0m \u001b[0menvironment\u001b[0m\u001b[0;34m.\u001b[0m\u001b[0mUserSettings\u001b[0m\u001b[0;34m(\u001b[0m\u001b[0;34m)\u001b[0m\u001b[0;34m\u001b[0m\u001b[0;34m\u001b[0m\u001b[0m\n\u001b[0;32m----> 2\u001b[0;31m \u001b[0mus\u001b[0m\u001b[0;34m.\u001b[0m\u001b[0mcreate\u001b[0m\u001b[0;34m(\u001b[0m\u001b[0;34m)\u001b[0m\u001b[0;34m\u001b[0m\u001b[0;34m\u001b[0m\u001b[0m\n\u001b[0m",
      "\u001b[0;32m/usr/local/lib/python3.7/site-packages/music21/environment.py\u001b[0m in \u001b[0;36mcreate\u001b[0;34m(self)\u001b[0m\n\u001b[1;32m   1329\u001b[0m         \u001b[0;32melse\u001b[0m\u001b[0;34m:\u001b[0m\u001b[0;34m\u001b[0m\u001b[0;34m\u001b[0m\u001b[0m\n\u001b[1;32m   1330\u001b[0m             raise UserSettingsException(\n\u001b[0;32m-> 1331\u001b[0;31m                 \u001b[0;34m'An environment configuration file already exists; '\u001b[0m\u001b[0;34m\u001b[0m\u001b[0;34m\u001b[0m\u001b[0m\n\u001b[0m\u001b[1;32m   1332\u001b[0m                 'simply set values to modify.')\n\u001b[1;32m   1333\u001b[0m \u001b[0;34m\u001b[0m\u001b[0m\n",
      "\u001b[0;31mUserSettingsException\u001b[0m: An environment configuration file already exists; simply set values to modify."
     ]
    }
   ],
   "source": [
    "us = environment.UserSettings()\n",
    "us.create()"
   ]
  },
  {
   "cell_type": "code",
   "execution_count": 1,
   "metadata": {},
   "outputs": [
    {
     "ename": "NameError",
     "evalue": "name 'environment' is not defined",
     "output_type": "error",
     "traceback": [
      "\u001b[0;31m---------------------------------------------------------------------------\u001b[0m",
      "\u001b[0;31mNameError\u001b[0m                                 Traceback (most recent call last)",
      "\u001b[0;32m<ipython-input-1-ae5a7435b8ab>\u001b[0m in \u001b[0;36m<module>\u001b[0;34m\u001b[0m\n\u001b[0;32m----> 1\u001b[0;31m \u001b[0menvironment\u001b[0m\u001b[0;34m.\u001b[0m\u001b[0mset\u001b[0m\u001b[0;34m(\u001b[0m\u001b[0;34m'musescoreDirectPNGPath'\u001b[0m\u001b[0;34m,\u001b[0m\u001b[0;34m'/Applications/MuseScore 3.app/Contents/MacOS/mscore'\u001b[0m\u001b[0;34m)\u001b[0m\u001b[0;34m\u001b[0m\u001b[0;34m\u001b[0m\u001b[0m\n\u001b[0m",
      "\u001b[0;31mNameError\u001b[0m: name 'environment' is not defined"
     ]
    }
   ],
   "source": [
    "environment.set('musescoreDirectPNGPath','/Applications/MuseScore 3.app/Contents/MacOS/mscore')"
   ]
  },
  {
   "cell_type": "code",
   "execution_count": 5,
   "metadata": {},
   "outputs": [
    {
     "name": "stdout",
     "output_type": "stream",
     "text": [
      "autoDownload - ask\n",
      "braillePath - None\n",
      "debug - 0\n",
      "directoryScratch - None\n",
      "graphicsPath - /Applications/Preview.app\n",
      "ipythonShowFormat - ipython.musicxml.png\n",
      "lilypondBackend - ps\n",
      "lilypondFormat - pdf\n",
      "lilypondPath - /Applications/Lilypond.app/Contents/Resources/bin/lilypond\n",
      "lilypondVersion - None\n",
      "localCorporaSettings - {}\n",
      "localCorpusPath - None\n",
      "localCorpusSettings - LocalCorpusSettings([])\n",
      "manualCoreCorpusPath - None\n",
      "midiPath - /Applications/Utilities/QuickTime Player 7.app\n",
      "musescoreDirectPNGPath - /Applications/MuseScore 2.app/Contents/MacOS/mscore\n",
      "musicxmlPath - /Applications/MuseScore 2.app/Contents/MacOS/mscore\n",
      "pdfPath - /Applications/Preview.app\n",
      "showFormat - musicxml\n",
      "vectorPath - /Applications/Preview.app\n",
      "warnings - 1\n",
      "writeFormat - musicxml\n"
     ]
    }
   ],
   "source": [
    "for key in sorted(us.keys()):\n",
    "    try:\n",
    "        tmp = us[key]\n",
    "    except:\n",
    "        tmp = \"None\"\n",
    "    print(\"{0} - {1}\".format(key,tmp))"
   ]
  },
  {
   "cell_type": "code",
   "execution_count": null,
   "metadata": {},
   "outputs": [],
   "source": []
  }
 ],
 "metadata": {
  "kernelspec": {
   "display_name": "Python 3",
   "language": "python",
   "name": "python3"
  },
  "language_info": {
   "codemirror_mode": {
    "name": "ipython",
    "version": 3
   },
   "file_extension": ".py",
   "mimetype": "text/x-python",
   "name": "python",
   "nbconvert_exporter": "python",
   "pygments_lexer": "ipython3",
   "version": "3.7.2"
  }
 },
 "nbformat": 4,
 "nbformat_minor": 2
}
