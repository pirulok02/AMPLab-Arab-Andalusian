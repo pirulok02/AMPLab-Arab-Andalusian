{
 "cells": [
  {
   "cell_type": "markdown",
   "metadata": {},
   "source": [
    "## AMPL - Introduction to music21 (1)\n",
    "These are simple examples to demonstrate the basic concepts in music21 of streams and objects"
   ]
  },
  {
   "cell_type": "code",
   "execution_count": null,
   "metadata": {},
   "outputs": [],
   "source": [
    "from music21 import *"
   ]
  },
  {
   "cell_type": "markdown",
   "metadata": {},
   "source": [
    "Make sure to select the correct path to the sample score. In order for the .show() method to work, a score editor should be installed and added to [music21's user environment](http://web.mit.edu/music21/doc/usersGuide/usersGuide_24_environment.html#usersguide-24-environment). "
   ]
  },
  {
   "cell_type": "code",
   "execution_count": null,
   "metadata": {},
   "outputs": [],
   "source": [
    "s = converter.parse('lseh-WeiGuoJia-HongYangDong-1.xml')\n",
    "s.show()"
   ]
  },
  {
   "cell_type": "code",
   "execution_count": null,
   "metadata": {},
   "outputs": [],
   "source": [
    "print(type(s))\n",
    "s.elements"
   ]
  },
  {
   "cell_type": "code",
   "execution_count": null,
   "metadata": {},
   "outputs": [],
   "source": [
    "scoreParts = s.parts.stream()\n",
    "scoreParts.elements"
   ]
  },
  {
   "cell_type": "code",
   "execution_count": null,
   "metadata": {},
   "outputs": [],
   "source": [
    "part0 = scoreParts[0]\n",
    "part1 = scoreParts[1]\n",
    "print(type(part0), type(part1))"
   ]
  },
  {
   "cell_type": "code",
   "execution_count": null,
   "metadata": {},
   "outputs": [],
   "source": [
    "print('Elements in part 0:', len(part0.elements))\n",
    "print('Elements in part 1:', len(part1.elements))"
   ]
  },
  {
   "cell_type": "code",
   "execution_count": null,
   "metadata": {},
   "outputs": [],
   "source": [
    "part0.elements"
   ]
  },
  {
   "cell_type": "code",
   "execution_count": null,
   "metadata": {},
   "outputs": [],
   "source": [
    "part1.elements"
   ]
  },
  {
   "cell_type": "code",
   "execution_count": null,
   "metadata": {},
   "outputs": [],
   "source": [
    "measures0 = part0.getElementsByClass(stream.Measure).stream()\n",
    "measures1 = part1.getElementsByClass(stream.Measure).stream()\n",
    "print('Measures in part 0:', len(measures0))\n",
    "print('Measures in part 1:', len(measures1))"
   ]
  },
  {
   "cell_type": "code",
   "execution_count": null,
   "metadata": {},
   "outputs": [],
   "source": [
    "measures0.elements"
   ]
  },
  {
   "cell_type": "code",
   "execution_count": null,
   "metadata": {},
   "outputs": [],
   "source": [
    "for m in measures0[0:10]:\n",
    "    print('Measure number:', m.number, '\\tMeasure offset:', m.offset)"
   ]
  },
  {
   "cell_type": "code",
   "execution_count": null,
   "metadata": {},
   "outputs": [],
   "source": [
    "measure0_0 = measures0[0]\n",
    "measure0_0.elements"
   ]
  },
  {
   "cell_type": "code",
   "execution_count": null,
   "metadata": {},
   "outputs": [],
   "source": [
    "kS = measure0_0.getElementsByClass(key.KeySignature).stream()[0]\n",
    "print(kS)\n",
    "print('Number of altered pitches:', kS.sharps)\n",
    "print('List of altered pitches:', kS.alteredPitches)\n",
    "print('Measure number:', kS.measureNumber)\n",
    "print('Offset:', kS.offset)"
   ]
  },
  {
   "cell_type": "code",
   "execution_count": null,
   "metadata": {},
   "outputs": [],
   "source": [
    "tS = measure0_0.getElementsByClass(meter.TimeSignature).stream()[0]\n",
    "print(tS)\n",
    "print('Numerator:', tS.numerator)\n",
    "print('Denominator:', tS.denominator)\n",
    "print('Measure number:', tS.measureNumber)\n",
    "print('Offset:', tS.offset)"
   ]
  },
  {
   "cell_type": "code",
   "execution_count": null,
   "metadata": {},
   "outputs": [],
   "source": [
    "measure0_3 = part0.measure(3)\n",
    "print(measure0_3.offset)"
   ]
  },
  {
   "cell_type": "code",
   "execution_count": null,
   "metadata": {},
   "outputs": [],
   "source": [
    "measure0_3.elements"
   ]
  },
  {
   "cell_type": "code",
   "execution_count": null,
   "metadata": {},
   "outputs": [],
   "source": [
    "n1 = measure0_3[0]\n",
    "print(n1)\n",
    "print('Measure number:', n1.measureNumber)\n",
    "print('Note offset:', n1.offset)\n",
    "print('Is it a note?', n1.isNote)\n",
    "print('Is it a rest?', n1.isRest)"
   ]
  },
  {
   "cell_type": "code",
   "execution_count": null,
   "metadata": {},
   "outputs": [],
   "source": [
    "print('Frequency:', n1.pitch.frequency)\n",
    "print('Name:', n1.pitch.name)\n",
    "print('Step:', n1.pitch.step)\n",
    "print('Octave:', n1.pitch.octave)\n",
    "print('Name with octave:', n1.pitch.nameWithOctave)\n",
    "print('Midi:', n1.pitch.midi)\n",
    "print('Name in Spanish:', n1.pitch.spanish)\n",
    "print()\n",
    "print('Accidental:', n1.pitch.accidental.name)\n",
    "print('Accidental value:', n1.pitch.accidental.alter)"
   ]
  },
  {
   "cell_type": "code",
   "execution_count": null,
   "metadata": {},
   "outputs": [],
   "source": [
    "print('Duration type:', n1.duration.type)\n",
    "print('Duration name:', n1.duration.fullName)\n",
    "print('Duration as quarter length:', n1.duration.quarterLength)"
   ]
  },
  {
   "cell_type": "code",
   "execution_count": null,
   "metadata": {},
   "outputs": [],
   "source": [
    "print('Name:', n1.name)\n",
    "print('Step:', n1.step)\n",
    "print('Octave:', n1.octave)\n",
    "print('Name with octave:', n1.nameWithOctave)\n",
    "print()\n",
    "print('Duration as quarter length:', n1.quarterLength)"
   ]
  },
  {
   "cell_type": "code",
   "execution_count": null,
   "metadata": {},
   "outputs": [],
   "source": [
    "n2 = measure0_3[1]\n",
    "n3 = measure0_3[2]\n",
    "print('Name:\\t\\t', n2.nameWithOctave, '\\t', n3.nameWithOctave)\n",
    "print('Duration:\\t', n2.quarterLength, '\\t', n3.quarterLength)\n",
    "print('Offset:\\t\\t', n2.offset, '\\t', n3.offset)"
   ]
  },
  {
   "cell_type": "code",
   "execution_count": null,
   "metadata": {},
   "outputs": [],
   "source": [
    "measure1_9 = part1.measure(9)\n",
    "n4 = measure1_9[0]\n",
    "print('Name:', n4.nameWithOctave)\n",
    "print('Duration:', n4.quarterLength)"
   ]
  },
  {
   "cell_type": "code",
   "execution_count": null,
   "metadata": {},
   "outputs": [],
   "source": [
    "print('Does n1 have lyric?', n1.lyric != None)\n",
    "print('Does n4 have lyric?', n4.lyric != None)"
   ]
  },
  {
   "cell_type": "code",
   "execution_count": null,
   "metadata": {},
   "outputs": [],
   "source": [
    "print(\"n4's lyric:\", n4.lyric)"
   ]
  },
  {
   "cell_type": "code",
   "execution_count": null,
   "metadata": {},
   "outputs": [],
   "source": [
    "n5 = measure1_9[1]\n",
    "print('Duration:', n5.quarterLength)\n",
    "print('Duration type:', n5.duration.type)\n",
    "print('Duration name:', n5.duration.fullName)\n",
    "print('Duration as quarter length:', n5.duration.quarterLength)\n",
    "print('Dots:', n5.duration.dots)"
   ]
  },
  {
   "cell_type": "code",
   "execution_count": null,
   "metadata": {},
   "outputs": [],
   "source": [
    "measure1_20 = part1.measure(20)\n",
    "measure1_21 = part1.measure(21)\n",
    "n6 = measure1_20[-1]\n",
    "n7 = measure1_21[2]\n",
    "print('Pitch name:\\t', n6.nameWithOctave, '\\t', n7.nameWithOctave)\n",
    "print('Duration:\\t', n6.quarterLength, '\\t', n7.quarterLength)\n",
    "print('Tie:\\t\\t', n6.tie.type, '\\t', n7.tie.type)"
   ]
  }
 ],
 "metadata": {
  "kernelspec": {
   "display_name": "Python 3",
   "language": "python",
   "name": "python3"
  },
  "language_info": {
   "codemirror_mode": {
    "name": "ipython",
    "version": 3
   },
   "file_extension": ".py",
   "mimetype": "text/x-python",
   "name": "python",
   "nbconvert_exporter": "python",
   "pygments_lexer": "ipython3",
   "version": "3.7.2"
  }
 },
 "nbformat": 4,
 "nbformat_minor": 2
}
