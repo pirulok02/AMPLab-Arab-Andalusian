{
 "cells": [
  {
   "cell_type": "code",
   "execution_count": 2,
   "metadata": {},
   "outputs": [],
   "source": [
    "from music21 import *"
   ]
  },
  {
   "cell_type": "code",
   "execution_count": 4,
   "metadata": {},
   "outputs": [],
   "source": [
    "us = environment.UserSettings()\n",
    "#us.create()"
   ]
  },
  {
   "cell_type": "code",
   "execution_count": 5,
   "metadata": {},
   "outputs": [],
   "source": [
    "environment.set('musescoreDirectPNGPath','/Applications/MuseScore 3.app/Contents/MacOS/mscore')\n",
    "environment.set('musescoreDirectPNGPath','/Applications/MuseScore 3.app/Contents/MacOS/mscore')"
   ]
  },
  {
   "cell_type": "code",
   "execution_count": 6,
   "metadata": {},
   "outputs": [
    {
     "name": "stdout",
     "output_type": "stream",
     "text": [
      "autoDownload - ask\n",
      "braillePath - None\n",
      "debug - 0\n",
      "directoryScratch - None\n",
      "graphicsPath - /Applications/Preview.app\n",
      "ipythonShowFormat - ipython.musicxml.png\n",
      "lilypondBackend - ps\n",
      "lilypondFormat - pdf\n",
      "lilypondPath - /Applications/Lilypond.app/Contents/Resources/bin/lilypond\n",
      "lilypondVersion - None\n",
      "localCorporaSettings - {}\n",
      "localCorpusPath - None\n",
      "localCorpusSettings - LocalCorpusSettings([])\n",
      "manualCoreCorpusPath - None\n",
      "midiPath - /Applications/Utilities/QuickTime Player 7.app\n",
      "musescoreDirectPNGPath - /Applications/MuseScore 3.app/Contents/MacOS/mscore\n",
      "musicxmlPath - /Applications/MuseScore 2.app/Contents/MacOS/mscore\n",
      "pdfPath - /Applications/Preview.app\n",
      "showFormat - musicxml\n",
      "vectorPath - /Applications/Preview.app\n",
      "warnings - 1\n",
      "writeFormat - musicxml\n"
     ]
    }
   ],
   "source": [
    "for key in sorted(us.keys()):\n",
    "    try:\n",
    "        tmp = us[key]\n",
    "    except:\n",
    "        tmp = \"None\"\n",
    "    print(\"{0} - {1}\".format(key,tmp))"
   ]
  },
  {
   "cell_type": "code",
   "execution_count": null,
   "metadata": {},
   "outputs": [],
   "source": []
  }
 ],
 "metadata": {
  "kernelspec": {
   "display_name": "Python 3",
   "language": "python",
   "name": "python3"
  },
  "language_info": {
   "codemirror_mode": {
    "name": "ipython",
    "version": 3
   },
   "file_extension": ".py",
   "mimetype": "text/x-python",
   "name": "python",
   "nbconvert_exporter": "python",
   "pygments_lexer": "ipython3",
   "version": "3.7.2"
  }
 },
 "nbformat": 4,
 "nbformat_minor": 2
}
