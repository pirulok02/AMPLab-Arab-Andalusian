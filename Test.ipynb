{
 "cells": [
  {
   "cell_type": "code",
   "execution_count": 1,
   "metadata": {},
   "outputs": [
    {
     "name": "stderr",
     "output_type": "stream",
     "text": [
      "music21: Certain music21 functions might need the optional package scipy;\n",
      "                  if you run into errors, install it by following the instructions at\n",
      "                  http://mit.edu/music21/doc/installing/installAdditional.html\n"
     ]
    }
   ],
   "source": [
    "import os\n",
    "import sys\n",
    "from tqdm import tqdm,tnrange\n",
    "import time\n",
    "from collections import defaultdict\n",
    "import numpy as np\n",
    "import matplotlib.pyplot as plt\n",
    "from matplotlib.figure import Figure\n",
    "import pandas as pd\n",
    "from music21 import *\n",
    "import shutil\n",
    "#from utilities.constants import *\n",
    "#from utilities.utilities import *\n",
    "\n",
    "WORKING_DIR = os.path.abspath(\"\")\n",
    "SCORES_DIR = os.path.join(WORKING_DIR,\"scores\")\n",
    "DISTANCE_TH = 3\n",
    "PLOTS_DIR = os.path.join(WORKING_DIR,\"plots\",str(DISTANCE_TH))\n",
    "\n",
    "if not os.path.exists(SCORES_DIR):\n",
    "    raise ValueError(\"Download the scores first\")\n"
   ]
  },
  {
   "cell_type": "markdown",
   "metadata": {},
   "source": [
    "# Organise files in documents"
   ]
  },
  {
   "cell_type": "code",
   "execution_count": 2,
   "metadata": {},
   "outputs": [],
   "source": [
    "def get_all_pitchclassdistribution_df(path, direction = \"all\", distance_th = 2):\n",
    "    \n",
    "    number_of_files = int(sum(1 for _ in os.listdir(path)))\n",
    "\n",
    "    pitchclass_df = pd.DataFrame()\n",
    "    \n",
    "    for score,i in zip(os.listdir(path),tnrange(number_of_files-1)):\n",
    "        \n",
    "        _, extension = os.path.splitext(score)\n",
    "        \n",
    "        if extension == \".xml\":\n",
    "            \n",
    "            s = converter.parse(os.path.join(path,score))\n",
    "            #print(\"s:\",s)\n",
    "            \n",
    "            classes,percentage = get_pitch_class_percentage(s, direction, distance_th)\n",
    "            \n",
    "            classes = [str(x) for x in classes]\n",
    "            percentage = [[x] for x in percentage]\n",
    "            \n",
    "            tmp_df = pd.DataFrame(dict(zip(classes,percentage)))\n",
    "            \n",
    "            pitchclass_df = pd.concat([pitchclass_df,tmp_df],sort = True, ignore_index = True)\n",
    "            \n",
    "    return pitchclass_df\n"
   ]
  },
  {
   "cell_type": "code",
   "execution_count": 3,
   "metadata": {},
   "outputs": [],
   "source": [
    "def get_pitch_class_percentage(score, direction, distance_th):\n",
    "    #directions asc = ascendant, desc = descendant, all\n",
    "    \n",
    "    pitches = score.parts[0].pitches\n",
    "    \n",
    "    #print(\"pitches:\", pitches)\n",
    "    \n",
    "    midi_pitches = select_pitches_direction(pitches, direction, distance_th)\n",
    "    \n",
    "    count_pitch_classes = defaultdict(int)\n",
    "    \n",
    "    for note in midi_pitches:\n",
    "        count_pitch_classes[int(note%12)] += 1\n",
    "    \n",
    "    pitch_classes = sorted(list(count_pitch_classes.keys()))\n",
    "    data = []\n",
    "    \n",
    "    for c in pitch_classes:\n",
    "        data.append(count_pitch_classes[c])\n",
    "    \n",
    "    data = 100*np.array(data)/sum(data)\n",
    "    \n",
    "    return pitch_classes, data"
   ]
  },
  {
   "cell_type": "code",
   "execution_count": 4,
   "metadata": {},
   "outputs": [],
   "source": [
    "def select_pitches_direction(pitches,direction,distance_th):\n",
    "    \n",
    "    if not direction in [\"all\",\"desc\",\"asc\"]:\n",
    "        raise ValueError('Only all, desc, asc modes accepted')\n",
    "    if distance_th<=0:\n",
    "        raise ValueError('distance_th must be ≥1')\n",
    "    \n",
    "    tmp_plots_dir = os.path.join(PLOTS_DIR,direction)\n",
    "    \n",
    "    if not os.path.exists(tmp_plots_dir):\n",
    "        os.mkdir(tmp_plots_dir)\n",
    "    \n",
    "    midi_pitches = [p.ps for p in pitches]\n",
    "    \n",
    "    if direction == \"all\":\n",
    "        return midi_pitches\n",
    "\n",
    "    midi_pitches = np.array(midi_pitches)\n",
    "    \n",
    "    #print(\"midi_pitches:\", midi_pitches)\n",
    "    \n",
    "    difference = np.diff(midi_pitches)\n",
    "    difference = np.clip(difference, a_min = -1, a_max = 1)\n",
    "    \n",
    "    #print(\"difference:\", difference)\n",
    "    \n",
    "    state = \"null\"\n",
    "    selection = []\n",
    "    state_arr = [0 for _ in range(distance_th)]\n",
    "    \n",
    "    for i in range(distance_th,len(midi_pitches)-distance_th):\n",
    "    \n",
    "        suma = sum(difference[(i-distance_th):(i+distance_th)])\n",
    "        if (suma >= distance_th/2):\n",
    "            state = \"asc\"\n",
    "            state_arr.append(1)\n",
    "        elif (suma <= -1*distance_th/2):\n",
    "            state = \"desc\"\n",
    "            state_arr.append(-1)\n",
    "        elif abs(suma) <= 1:\n",
    "            pass\n",
    "            if state == \"asc\":\n",
    "                state_arr.append(1)\n",
    "            elif state == \"desc\":\n",
    "                state_arr.append(-1)\n",
    "        else:\n",
    "            state = \"null\"\n",
    "            state_arr.append(0)\n",
    "            \n",
    "        if state == \"asc\" and state == direction:\n",
    "            selection.append(midi_pitches[i])\n",
    "        elif state == \"desc\" and state == direction:\n",
    "            selection.append(midi_pitches[i])\n",
    "    \n",
    "    for _ in range(distance_th):\n",
    "        state_arr.append(0)\n",
    "        \n",
    "        #print(str(midi_pitches[i]) + \",\" + str(difference[i]) + \" suma:\" + str(suma) + \"state:\" + state)\n",
    "    \n",
    "    plt.figure(figsize = (10,8))\n",
    "    state_arr = (np.max(midi_pitches)-np.mean(midi_pitches))*np.array(state_arr)+np.mean(midi_pitches)\n",
    "    plt.scatter(np.arange(100),state_arr[:100], color = 'b')\n",
    "    plt.plot(midi_pitches[:100], color = 'r')\n",
    "    plotname = \"{0}/test_{1}{2}\".format(tmp_plots_dir,sum(1 for _ in os.listdir(tmp_plots_dir)),\".png\")\n",
    "    plt.savefig(plotname, dpi = 300)\n",
    "    plt.close()\n",
    "    return selection"
   ]
  },
  {
   "cell_type": "code",
   "execution_count": null,
   "metadata": {
    "scrolled": false
   },
   "outputs": [
    {
     "data": {
      "application/vnd.jupyter.widget-view+json": {
       "model_id": "301edcf54ba94d15a29160337e41b138",
       "version_major": 2,
       "version_minor": 0
      },
      "text/plain": [
       "HBox(children=(IntProgress(value=0, max=157), HTML(value='')))"
      ]
     },
     "metadata": {},
     "output_type": "display_data"
    }
   ],
   "source": [
    "if os.path.exists(PLOTS_DIR):\n",
    "    shutil.rmtree(PLOTS_DIR, ignore_errors=True)\n",
    "os.mkdir(PLOTS_DIR)\n",
    "pitchclass_df_asc = get_all_pitchclassdistribution_df(SCORES_DIR, \"asc\", distance_th = DISTANCE_TH)\n",
    "pitchclass_df_desc = get_all_pitchclassdistribution_df(SCORES_DIR, \"desc\", distance_th = DISTANCE_TH)"
   ]
  },
  {
   "cell_type": "code",
   "execution_count": null,
   "metadata": {},
   "outputs": [],
   "source": [
    "pitchclass_df_asc = pitchclass_df_asc.transpose()\n",
    "pitchclass_df_asc.index = pitchclass_df_asc.index.astype(int)\n",
    "pitchclass_df_asc = pitchclass_df_asc.sort_index().transpose().replace(np.nan, 0)\n",
    "\n",
    "pitchclass_df_desc = pitchclass_df_desc.transpose()\n",
    "pitchclass_df_desc.index = pitchclass_df_desc.index.astype(int)\n",
    "pitchclass_df_desc = pitchclass_df_desc.sort_index().transpose().replace(np.nan, 0)"
   ]
  },
  {
   "cell_type": "code",
   "execution_count": null,
   "metadata": {},
   "outputs": [],
   "source": [
    "f, axs = plt.subplots(1,2,figsize=(40,15))\n",
    "\n",
    "axs[0] = pitchclass_df_asc.boxplot(ax=axs[0])\n",
    "axs[1] = pitchclass_df_desc.boxplot(ax=axs[1])\n",
    "\n",
    "axs[0].set_title(\"Ascending\")\n",
    "axs[0].set_xlabel(\"Pitch Class\")\n",
    "axs[0].set_xlabel(\"Percentage\")\n",
    "axs[0].set_ylim(0, 40)\n",
    "\n",
    "axs[1].set_title(\"Descending\")\n",
    "axs[1].set_xlabel(\"Pitch Class\")\n",
    "axs[1].set_xlabel(\"Percentage\")\n",
    "axs[1].set_ylim(0, 40)\n",
    "\n",
    "filename = os.path.join(PLOTS_DIR,\"Both_{0}_distance.png\".format(DISTANCE_TH))\n",
    "\n",
    "f.savefig(filename)"
   ]
  },
  {
   "cell_type": "code",
   "execution_count": null,
   "metadata": {},
   "outputs": [],
   "source": [
    "#ax = pitchclass_df_desc.boxplot(figsize = (20,15))\n",
    "\n",
    "#plt.xlabel(\"Pitch Class\")\n",
    "#plt.ylabel(\"Percentage\")\n",
    "#plt.ylim(0, 40)\n",
    "#plt.title(\"Descending\")\n",
    "#filename = \"Descending_{0}_distance.png\".format(DISTANCE_TH)\n",
    "    \n",
    "#plt.savefig(filename)"
   ]
  },
  {
   "cell_type": "code",
   "execution_count": null,
   "metadata": {},
   "outputs": [],
   "source": [
    "#print(\"{0}{1}{2}\".format(\"Formatting files in \", SCORES_DIR, \" and storing them in the scores folder...\"))\n",
    "\n",
    "#organize_xml_files(SCORES_DIR)\n",
    "\n",
    "#print(\"Done\")"
   ]
  },
  {
   "cell_type": "code",
   "execution_count": null,
   "metadata": {},
   "outputs": [],
   "source": [
    "#show_music21_settings()"
   ]
  },
  {
   "cell_type": "code",
   "execution_count": null,
   "metadata": {},
   "outputs": [],
   "source": [
    "mean_array_asc = np.array(pitchclass_df_asc.sum(axis=0).tolist())/(len(pitchclass_df_asc.index.tolist()))\n",
    "mean_array_desc = np.array(pitchclass_df_desc.sum(axis=0).tolist())/(len(pitchclass_df_desc.index.tolist()))"
   ]
  },
  {
   "cell_type": "code",
   "execution_count": null,
   "metadata": {},
   "outputs": [],
   "source": [
    "print(\"median_array_asc :\",mean_array_asc)\n",
    "print(\"median_array_desc :\",mean_array_desc)\n",
    "\n",
    "mean_df = pd.DataFrame({\"asc\":mean_array_asc, \"desc\":mean_array_desc})\n",
    "mean_df.plot.bar(figsize=(15,10))\n",
    "\n",
    "filename = os.path.join(PLOTS_DIR,\"Both_{0}_mean.png\".format(DISTANCE_TH))\n",
    "\n",
    "plt.title(\"Mean\")\n",
    "plt.xlabel(\"Pitch Class\")\n",
    "plt.ylabel(\"Percentage\")\n",
    "plt.savefig(filename)"
   ]
  },
  {
   "cell_type": "code",
   "execution_count": null,
   "metadata": {},
   "outputs": [],
   "source": []
  },
  {
   "cell_type": "code",
   "execution_count": null,
   "metadata": {},
   "outputs": [],
   "source": []
  }
 ],
 "metadata": {
  "kernelspec": {
   "display_name": "Python 3",
   "language": "python",
   "name": "python3"
  },
  "language_info": {
   "codemirror_mode": {
    "name": "ipython",
    "version": 3
   },
   "file_extension": ".py",
   "mimetype": "text/x-python",
   "name": "python",
   "nbconvert_exporter": "python",
   "pygments_lexer": "ipython3",
   "version": "3.7.2"
  }
 },
 "nbformat": 4,
 "nbformat_minor": 2
}
