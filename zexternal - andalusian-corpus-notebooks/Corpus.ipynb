{
 "cells": [
  {
   "cell_type": "markdown",
   "metadata": {},
   "source": [
    "# Arab-Andalusian Collection - Corpus\n",
    "With this notebook, it is possible to download and analyse the entire corpus of Arab-Andalusian music in Dunya. The corpus is composed by 164 recordings and their relative metadata coming from Dunya. Most of them also feature notes transcriptions stored in a xml score and other metadata coming from Musicbrainz. With this notebook, it is possible to select all or part of this corpus, downloading the data and computing pitch profile, distribution and tonic frequency of each recording."
   ]
  },
  {
   "cell_type": "markdown",
   "metadata": {},
   "source": [
    "## Initialization (MANDATORY)\n",
    "In this cell, all the libraries are loaded. \n",
    "Furthermore, a function checks if the metadata related to Arab-Andalusian corpus of Dunya has been downloaded: if not, all metadata will be downloaded. \n",
    "At the end, the code creates an object to manage the Dunya metadata.\n",
    "\n",
    "#### NB: Before to run, remember to add the Dunya token in the costants.py file. This file is in the directory \"utilities\"."
   ]
  },
  {
   "cell_type": "code",
   "execution_count": 1,
   "metadata": {},
   "outputs": [
    {
     "name": "stdout",
     "output_type": "stream",
     "text": [
      "Analyzing Dunya Metadata...\n"
     ]
    },
    {
     "name": "stderr",
     "output_type": "stream",
     "text": [
      "/Users/victor/Documents/Projects/InProgress/AMPLab Arab-Andalusian/zexternal - andalusian-corpus-notebooks/utilities/metadataStatistics.py:46: FutureWarning: Sorting because non-concatenation axis is not aligned. A future version\n",
      "of pandas will change to not sort by default.\n",
      "\n",
      "To accept the future behavior, pass 'sort=False'.\n",
      "\n",
      "To retain the current behavior and silence the warning, pass 'sort=True'.\n",
      "\n",
      "  df = pd.concat([df, new_row])\n"
     ]
    },
    {
     "name": "stdout",
     "output_type": "stream",
     "text": [
      "Collection of metadata created\n"
     ]
    }
   ],
   "source": [
    "from utilities.recordingcomputation import *\n",
    "from utilities.dunyautilities import *\n",
    "from utilities.metadataStatistics import *\n",
    "from utilities.constants import *\n",
    "from gui.gui_corpora import *\n",
    "\n",
    "# download metadata from Dunya\n",
    "if not check_dunya_metadata():\n",
    "    print(\"Downloading metadata from Dunya...\")\n",
    "    collect_metadata()\n",
    "\n",
    "# create an object with all the well-structured metadata\n",
    "print(\"Analyzing Dunya Metadata...\")\n",
    "cm = CollectionMetadata()\n",
    "print(\"Collection of metadata created\")"
   ]
  },
  {
   "cell_type": "markdown",
   "metadata": {},
   "source": [
    "## Select a list of recordings\n",
    "\n",
    "The widget of this cell allows to select a subset of the Arab-Andalusian corpus. With the characteristics of the first row, it is possible to select a list of recordings with a specific nawba, tab, mizan and form. All these data come from Dunya metadata. \n",
    "\n",
    "Options in the second row allow to select the recordings depending if the mp3 file and/or xml score and/or Musicbrainz metadata are downloaded or not.\n",
    "It is also possible to select only the recordings that have been analysed or not. \n",
    "\n",
    "Furthermore, the list of resulting recordings could be manually tweaked using checkboxes."
   ]
  },
  {
   "cell_type": "code",
   "execution_count": 2,
   "metadata": {
    "scrolled": false
   },
   "outputs": [
    {
     "data": {
      "application/vnd.jupyter.widget-view+json": {
       "model_id": "dddc9264b8ed47458e8f29ac8fbd574c",
       "version_major": 2,
       "version_minor": 0
      },
      "text/plain": [
       "VBox(children=(Label(value='   SELECT CHARACTERISTICS: '), HBox(children=(VBox(children=(Label(value='   ṭāb‘'…"
      ]
     },
     "metadata": {},
     "output_type": "display_data"
    }
   ],
   "source": [
    "selector = SelectionGui(cm, 10)"
   ]
  },
  {
   "cell_type": "markdown",
   "metadata": {},
   "source": [
    "To extract the list of recordings from the previous interface, it is necessary to run the next cell. \n",
    "The resulting list contains all the Musicbrainz IDs of the selected recordings."
   ]
  },
  {
   "cell_type": "code",
   "execution_count": 3,
   "metadata": {
    "scrolled": true
   },
   "outputs": [
    {
     "name": "stdout",
     "output_type": "stream",
     "text": [
      "Number of tracks: 164\n"
     ]
    }
   ],
   "source": [
    "rmbid_list1 = selector.get_rmbid_list()\n",
    "print(\"Number of tracks: \" + str(len(rmbid_list1)))"
   ]
  },
  {
   "cell_type": "markdown",
   "metadata": {},
   "source": [
    "## Download mp3, score and Musicbrainz metadata"
   ]
  },
  {
   "cell_type": "markdown",
   "metadata": {},
   "source": [
    "With this function, it is possible to check the correctness of the list of Musicbrainz IDs. Incorrect IDs are showed."
   ]
  },
  {
   "cell_type": "code",
   "execution_count": 4,
   "metadata": {},
   "outputs": [
    {
     "name": "stdout",
     "output_type": "stream",
     "text": [
      "List of recordings in Dunya: \n",
      "['2d91d7e4-904a-46b7-bce2-230ca4e1b1c4', 'b99ff2e9-2246-47be-875a-b2e33b28aff5', '5a5432e8-efff-4010-88cc-1ad921cc2075', 'f7e30e8e-f8a8-4482-9b18-6e55ca44dd77', '0ec0f901-160f-4ace-ab73-558724c1645c', '4ce08fd7-36cc-40b3-9517-65a0b9c0aaa4', '8db2cbbc-dddb-413d-b4a5-777fab2243f8', '323b52eb-4645-4e54-82cc-7ca78a264d0b', '7448d9c2-5261-4e70-bd98-6ed8416f908f', '64eb6302-34ec-4434-a004-4e7e503c3e6c', '719a2afc-461f-461e-ad18-8bce2c4f5023', '761e7fe4-871a-4f3e-8128-1cd1885d5288', 'e4e3fc3c-8d57-4123-b14c-236110dde3c0', 'c1e0311e-ee21-470c-b6f9-815d892cf6c9', 'f8b75f4a-1524-43cb-ad45-622ac277d96e', '36822512-b1c8-42aa-9e55-fe9d10560371', 'c20e4852-d140-4909-acab-e850c0e7d8e8', '4644f251-c85c-47a4-a1a7-1ca264d3c5d8', '0d0f31a6-dbf6-4aee-868e-76a6be2ffab3', 'bb44fb69-f787-4729-8470-1955eadb4862', '1f623914-8002-4866-8a6e-4dc684e848d9', 'b485548d-6b46-48aa-835f-1326f06bb91f', 'b3d92934-0946-4f2d-8183-312450d7e45e', '03e555c6-a480-4e11-aef7-231891c4f4e6', '78593333-603a-4abe-9c9b-6c4db3abc61e', 'db529ac1-4b46-4c7b-bf6a-28f152bf19fb', '12ce112f-38ed-4700-94ec-a329d06f6196', '97223154-d5c2-4c37-8e6c-4c998056a674', '35585cf5-36df-4592-bbf8-f7f2d6c7632c', '224bfb11-f761-4976-bc71-42d9805e5d63', 'd2830817-7b06-4f98-bba5-daf8ae9f85be', 'fb387964-4764-4900-91b5-f2ea7e10b786', '1630e9c2-3c01-4959-a633-7dbacbc7616e', '99c711e8-0683-4a44-9116-fc2b9448d98d', 'd4cadf34-1074-44ce-9928-f438198d5d6d', '9c48f778-ccb8-4a08-969c-68e250798035', 'a451a7fc-c53f-462a-b3fc-4377bb588105', '2d2683c4-4b3e-4430-a254-c828427bdcc7', 'dae13b1f-b7fd-4db3-af3c-11784d51d829', '04b42450-8838-4a20-9e79-d42f03f8cc51', '4bb0c111-8864-488a-a1e9-49f504c36312', '4a90d304-5deb-4af9-83d6-15931c289b73', 'e79c1615-7172-43a4-acdf-e9475c224edf', 'a025eef0-d130-496f-9581-f5ce40bd1783', 'e0ce0420-165c-4339-8556-6d75a0b733c7', '9781e524-92de-43f2-87e3-1e9f05931f0e', '0b671737-40b7-4dd3-9baf-d7c9cded139f', '3e5a82a2-d806-45cc-876e-6fa8a2b5a61d', '095b5074-e93e-40a9-93a4-d90b48feda79', '8842c1f0-e261-4069-bd59-768bb9a3315c', 'b8327bca-28eb-402b-9184-7777b980048c', '25dde40c-24c8-4411-8e2d-e4c1990917df', 'ec5d2ba0-7c04-4d87-83b9-f82d363ca319', 'cb85269e-ab6c-4226-aea1-8226be1fe86c', 'b3059282-a235-4fa4-9093-cb16a70d4b5d', '62acb9e5-e311-40ab-9c5c-866d071b5c93', '99004770-1152-4fec-802a-a0014e9b9930', 'ee64a602-ace5-4e1a-96ef-89a7cf41cfb5', '809e1d64-659c-4ef5-93ea-3d752eae25eb', 'fac4011e-c8f4-4a34-b02c-91ef429803cf', '25857838-1a8a-4102-a818-88bca8be5cf6', '8bd4a00f-e9f7-4a54-adc1-89c8356154e4', '75c19222-829c-4317-bbb5-5627d4802b28', 'b7b63bb4-1839-45bf-bb4f-389f150c556a', '8d2c6cc3-5aac-48b0-a335-aa0ddf77f0b6', '59fcb1d1-61f4-4cdc-9f7f-56757bf2400e', '7a6e069b-a84c-4848-b1d4-b4ac8f76d414', '01da143e-4224-4692-8e6c-1d55f6de8a6d', '64998568-2c8f-41f2-8462-5a9c798b6055', '6021ce1e-7117-45de-8e49-71f94b0572af', 'c2560f5e-e040-40ca-a390-72ed1ecd0792', '7a5cc189-4962-42d0-8141-d1374e933e46', 'd28dda8b-a4be-46a1-8845-b82d73937b41', '4342021d-03a1-4727-8c0f-3c23180ef374', '1ab3fe6b-0f46-4584-9abc-733d59c25c1b', '61aa5ef4-a4bd-4bcd-8301-1d2605db6279', 'a0f4157f-faa1-4304-ac75-b612587fb221', 'be5245ab-738a-4a93-a566-e73ced9d09da', 'b1defca8-81a5-4b88-8dea-6c99b3bf04b8', 'bc6ad194-8116-49e2-ae02-903264ca7fe1', 'a4051c3a-71a5-436b-a5c7-9cf6c1410b78', '17d9c6c3-af43-4975-8a38-606077b1ff80', 'b6091182-8877-4918-b637-77987c4a1034', '91d6a3f1-07c3-49b2-bcea-7d6c378e73cd', '4a290e8e-26ca-4cd9-992e-b6f96291f111', '18c76000-5e12-4b04-8151-6c425c5fac21', '13a8d4b9-8dbf-40c0-98df-db64791e43a9', 'c8029ba7-5827-4628-b0bd-1adcc1bb8379', '679856bc-132f-4982-b04e-cbf6b5b1129b', '0386e377-7212-43e5-89b6-7f4c42d0ae74', '545dd98f-9667-4299-b967-71e0a2a3c883', '2cf367de-583b-4bd6-83f3-fc036fe19fab', '02b76946-deec-48cf-9007-770c37b6c3cc', 'ec15c3e3-f58b-4073-8e1e-82620f488745', '95940501-39f3-4c08-9bbb-1799d8d89a45', '3fb6107c-13be-4006-851a-a857ed2f80bb', '73c4fd81-7464-4771-bd90-e3038dd633ef', '7e3ee6f2-c42f-4da4-9816-45aadcffea88', '3bb348f5-417d-4646-9041-42b935c54c28', '9b546274-eea6-459f-a0c2-918f0997fa2b', 'cdf77450-2d12-472d-9f6d-c150bba808b8', '6fe7108c-4e4f-457b-a363-ccf505bdee9a', '8ddaae6b-3657-41f1-98a1-7faffd6dcb5f', 'f7c00e6e-7b07-47ba-bfdd-146ddbf9adb5', '3e39495a-443d-483d-93d7-cdf96248c374', '69ac4f1a-eca5-42eb-9f9c-a1c2316cb040', '80dfbf12-1532-48e8-8128-1132acfca376', '44183247-4857-40cd-82bc-b4e9e3f458f1', 'b018d0fd-9955-47bb-9ef2-d291f500eebe', '4cfc03f4-9378-41d3-acd5-87b09c68d46b', '92de6fc8-a040-4500-bd94-73e9ee39f189', 'aecf65c2-ef6a-4e7a-a123-24fbe757684e', '799b1ba0-46ec-4d0d-bdff-e07d1dc07b09', '769ff214-27f4-4ac1-8750-a03015d51161', '6aa540dc-e857-4115-9b90-a0480eb5316f', '2bf90ba7-210f-4210-b986-dbf57edcf861', '33423585-e406-40ec-ba28-88b0768cb668', '263f2386-1081-4307-b686-1c99c2f31fa1', '277bc427-16dd-4468-9f4c-16945ffc3b30', 'f461045b-50bc-4b20-a731-66fbd3a264ae', '47e023e5-62a3-4dec-b61a-128ca5e23982', '860a5ee6-6f83-42b1-a277-8ebad8d15b37', '0fb722f6-35a3-436b-9316-4c2de2b86cc7', '07ee1daa-3bac-4bb8-922e-36729c11fc3a', '9b194c42-f974-42f8-89b1-123bb07170b8', 'eefa9d7d-6172-4c90-ba0c-ef9a41faa95d', 'e3003cd0-430a-4481-a33d-c15c22da2404', '80e8e9d5-c0ee-4d24-9418-f098b7110ca7', '0d1d3cff-e68e-403d-bb3f-caca302bf5ab', '1ffa4dee-b08e-4332-a2ab-9843c13c3dfa', '3b8d2e45-3bfd-4596-bcc0-addc64551eda', '8a7aa258-312b-4bfb-8b00-a58c925ceae2', '6311c0de-d66f-482d-8dd1-8d8917ca6a76', '2d8e2820-e4cf-4dc8-b4f1-45f8fb65de9e', 'b11237b9-d45b-4b3a-a97b-ab7d198f927f', 'e22549ae-4a0c-43ef-87f4-e0f81ed49d58', '5eb3c226-d289-40fe-a9f4-697568eb37d5', 'ccbfa79b-5ca4-4719-9f6b-04076180642e', '3b0fcedc-b11c-4665-9ae1-c23292f986be', 'd66d44e9-f722-4b23-8753-0dea2818f475', '689a2401-00b8-44f5-8107-76bfe75a36fe', 'd80d7c9c-3be1-4309-8520-12ac542a6759', 'a1eac726-208e-4c24-bd57-e34e9e93dcd3', 'f7bcb9af-6abb-4192-ae3d-37fa811034ce', 'd5cc773e-9d31-42e8-b9de-91374fe7153b', 'bb7adfee-f63d-4004-a457-b31ae784a0bd', '9727ddbe-eb79-461b-9861-8a60336b17f6', 'b787f4e2-dce1-4bfe-89b3-193cbaa5c90d', '52152ffb-5447-45dc-a332-2fdda533380e', 'a0245446-e4eb-40f4-bc43-6daa190eb97d', 'bc9625f1-cee7-432f-9f8d-dc9881a47dc2', '9b95a239-54c8-4cbe-b063-793b8718f022', '3a578e21-46bb-47f2-9a4d-7cd738f0dd5b', '4ddff7dd-8916-4dc4-abdd-56ce12ea88ca', '47a41543-89c7-40ad-a665-f7460ad4e4de', '8f32c379-c70a-4e9e-aabb-e0735611ecab', '70c04adf-b886-4d62-a88a-abdde5d93715', '2083676f-c26b-4e2e-8324-1b571e729521', '8361317d-2b4e-438f-9b73-d1daaa200a3e', 'c462ca37-7812-4b9b-9865-275da1f237fe', '56da9cc8-dbdf-4123-9f05-d866b8380d93', '0909c62d-7eb7-4976-b125-c20c12cc15a1', '2c44caec-ea8c-474b-9dda-c55c660df969', '023b4a37-1ab4-4593-b03a-850ee0db8350']\n",
      "\n",
      "List of uncorrect recordings: \n",
      "[]\n"
     ]
    }
   ],
   "source": [
    "check_before_download(rmbid_list1, cm)"
   ]
  },
  {
   "cell_type": "markdown",
   "metadata": {},
   "source": [
    "The following interface allows to download the list of recordings previously selected. User can choose the type of data to download."
   ]
  },
  {
   "cell_type": "code",
   "execution_count": 5,
   "metadata": {
    "scrolled": true
   },
   "outputs": [
    {
     "data": {
      "application/vnd.jupyter.widget-view+json": {
       "model_id": "025b1c0825c649179467f817fe73bf18",
       "version_major": 2,
       "version_minor": 0
      },
      "text/plain": [
       "VBox(children=(HBox(children=(Label(value='Select data type:', layout=Layout(width='50%')), Label(value='Selec…"
      ]
     },
     "metadata": {},
     "output_type": "display_data"
    },
    {
     "name": "stdout",
     "output_type": "stream",
     "text": [
      "\n",
      "Downloading data for recording 92de6fc8-a040-4500-bd94-73e9ee39f189\n",
      " - mp3 downloaded\n",
      " - Score already exists\n",
      "\n",
      "Downloading data for recording 323b52eb-4645-4e54-82cc-7ca78a264d0b\n",
      " - mp3 downloaded\n",
      " - Score not in Dunya\n",
      "\n",
      "Downloading data for recording 6aa540dc-e857-4115-9b90-a0480eb5316f\n",
      " - mp3 downloaded\n",
      " - Score already exists\n",
      "\n",
      "Downloading data for recording 023b4a37-1ab4-4593-b03a-850ee0db8350\n",
      " - mp3 downloaded\n",
      " - Score already exists\n",
      "\n",
      "Downloading data for recording 2cf367de-583b-4bd6-83f3-fc036fe19fab\n",
      " - mp3 downloaded\n",
      " - Score already exists\n",
      "\n",
      "Downloading data for recording 809e1d64-659c-4ef5-93ea-3d752eae25eb\n",
      " - mp3 already exists\n",
      " - Score already exists\n",
      "\n",
      "Downloading data for recording 4ce08fd7-36cc-40b3-9517-65a0b9c0aaa4\n",
      " - mp3 downloaded\n",
      " - Score not in Dunya\n",
      "\n",
      "Downloading data for recording 7448d9c2-5261-4e70-bd98-6ed8416f908f\n",
      " - mp3 downloaded\n",
      " - Score already exists\n",
      "\n",
      "Downloading data for recording e22549ae-4a0c-43ef-87f4-e0f81ed49d58\n",
      " - mp3 downloaded\n",
      " - Score already exists\n",
      "\n",
      "Downloading data for recording 799b1ba0-46ec-4d0d-bdff-e07d1dc07b09\n",
      " - mp3 downloaded\n",
      " - Score already exists\n",
      "\n",
      "Downloading data for recording 4342021d-03a1-4727-8c0f-3c23180ef374\n",
      " - mp3 downloaded\n",
      " - Score already exists\n",
      "\n",
      "Downloading data for recording 2c44caec-ea8c-474b-9dda-c55c660df969\n",
      " - mp3 downloaded\n",
      " - Score already exists\n",
      "\n",
      "Downloading data for recording db529ac1-4b46-4c7b-bf6a-28f152bf19fb\n",
      " - mp3 downloaded\n",
      " - Score already exists\n",
      "\n",
      "Downloading data for recording 7a5cc189-4962-42d0-8141-d1374e933e46\n",
      " - mp3 downloaded\n",
      " - Score already exists\n",
      "\n",
      "Downloading data for recording 4cfc03f4-9378-41d3-acd5-87b09c68d46b\n",
      " - mp3 downloaded\n",
      " - Score already exists\n",
      "\n",
      "Downloading data for recording 689a2401-00b8-44f5-8107-76bfe75a36fe\n",
      " - mp3 downloaded\n",
      " - Score already exists\n",
      "\n",
      "Downloading data for recording 3e39495a-443d-483d-93d7-cdf96248c374\n",
      " - mp3 downloaded\n",
      " - Score already exists\n",
      "\n",
      "Downloading data for recording 9c48f778-ccb8-4a08-969c-68e250798035\n",
      " - mp3 downloaded\n",
      " - Score already exists\n",
      "\n",
      "Downloading data for recording a0245446-e4eb-40f4-bc43-6daa190eb97d\n",
      " - mp3 downloaded\n",
      " - Score already exists\n",
      "\n",
      "Downloading data for recording 4a90d304-5deb-4af9-83d6-15931c289b73\n",
      " - mp3 downloaded\n",
      " - Score already exists\n",
      "\n",
      "Downloading data for recording ec5d2ba0-7c04-4d87-83b9-f82d363ca319\n"
     ]
    }
   ],
   "source": [
    "downloader = DownloadGui(rmbid_list1, cm)"
   ]
  },
  {
   "cell_type": "markdown",
   "metadata": {},
   "source": [
    "## Compute recordings \n",
    "The following interface allows to analyse a list of recordings. User can decide to analyse the pitch and to convert mp3s into wav files. The results of the pitch analysis consist in JSON files containing pitch profile, pitch distribution and tonic frequency. It is possible to export results also in txt format, in order to study a recording using the spectrogram tool of Sonic Visualizer.\n",
    "\n",
    "#### NB: a new list of recordings can be created using the selection widget"
   ]
  },
  {
   "cell_type": "code",
   "execution_count": null,
   "metadata": {
    "scrolled": false
   },
   "outputs": [],
   "source": [
    "analyzer = ComputationGui(rmbid_list1, cm)"
   ]
  },
  {
   "cell_type": "markdown",
   "metadata": {},
   "source": [
    "## Test"
   ]
  },
  {
   "cell_type": "code",
   "execution_count": null,
   "metadata": {},
   "outputs": [],
   "source": []
  }
 ],
 "metadata": {
  "kernelspec": {
   "display_name": "Python 3",
   "language": "python",
   "name": "python3"
  },
  "language_info": {
   "codemirror_mode": {
    "name": "ipython",
    "version": 3
   },
   "file_extension": ".py",
   "mimetype": "text/x-python",
   "name": "python",
   "nbconvert_exporter": "python",
   "pygments_lexer": "ipython3",
   "version": "3.7.2"
  }
 },
 "nbformat": 4,
 "nbformat_minor": 2
}
