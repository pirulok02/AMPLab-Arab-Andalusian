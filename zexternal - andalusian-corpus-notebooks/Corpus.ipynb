{
 "cells": [
  {
   "cell_type": "markdown",
   "metadata": {},
   "source": [
    "# Arab-Andalusian Collection - Corpus\n",
    "With this notebook, it is possible to download and analyse the entire corpus of Arab-Andalusian music in Dunya. The corpus is composed by 164 recordings and their relative metadata coming from Dunya. Most of them also feature notes transcriptions stored in a xml score and other metadata coming from Musicbrainz. With this notebook, it is possible to select all or part of this corpus, downloading the data and computing pitch profile, distribution and tonic frequency of each recording."
   ]
  },
  {
   "cell_type": "markdown",
   "metadata": {},
   "source": [
    "## Initialization (MANDATORY)\n",
    "In this cell, all the libraries are loaded. \n",
    "Furthermore, a function checks if the metadata related to Arab-Andalusian corpus of Dunya has been downloaded: if not, all metadata will be downloaded. \n",
    "At the end, the code creates an object to manage the Dunya metadata.\n",
    "\n",
    "#### NB: Before to run, remember to add the Dunya token in the costants.py file. This file is in the directory \"utilities\"."
   ]
  },
  {
   "cell_type": "code",
   "execution_count": 10,
   "metadata": {},
   "outputs": [
    {
     "name": "stdout",
     "output_type": "stream",
     "text": [
      "Analyzing Dunya Metadata...\n"
     ]
    },
    {
     "name": "stderr",
     "output_type": "stream",
     "text": [
      "/Users/victor/Documents/Projects/InProgress/AMPLab Arab-Andalusian/zexternal - andalusian-corpus-notebooks/utilities/metadataStatistics.py:46: FutureWarning: Sorting because non-concatenation axis is not aligned. A future version\n",
      "of pandas will change to not sort by default.\n",
      "\n",
      "To accept the future behavior, pass 'sort=False'.\n",
      "\n",
      "To retain the current behavior and silence the warning, pass 'sort=True'.\n",
      "\n",
      "  df = pd.concat([df, new_row])\n"
     ]
    },
    {
     "name": "stdout",
     "output_type": "stream",
     "text": [
      "Collection of metadata created\n"
     ]
    }
   ],
   "source": [
    "from utilities.recordingcomputation import *\n",
    "from utilities.dunyautilities import *\n",
    "from utilities.metadataStatistics import *\n",
    "from utilities.constants import *\n",
    "from gui.gui_corpora import *\n",
    "\n",
    "# download metadata from Dunya\n",
    "if not check_dunya_metadata():\n",
    "    print(\"Downloading metadata from Dunya...\")\n",
    "    collect_metadata()\n",
    "\n",
    "# create an object with all the well-structured metadata\n",
    "print(\"Analyzing Dunya Metadata...\")\n",
    "cm = CollectionMetadata()\n",
    "print(\"Collection of metadata created\")"
   ]
  },
  {
   "cell_type": "markdown",
   "metadata": {},
   "source": [
    "## Select a list of recordings\n",
    "\n",
    "The widget of this cell allows to select a subset of the Arab-Andalusian corpus. With the characteristics of the first row, it is possible to select a list of recordings with a specific nawba, tab, mizan and form. All these data come from Dunya metadata. \n",
    "\n",
    "Options in the second row allow to select the recordings depending if the mp3 file and/or xml score and/or Musicbrainz metadata are downloaded or not.\n",
    "It is also possible to select only the recordings that have been analysed or not. \n",
    "\n",
    "Furthermore, the list of resulting recordings could be manually tweaked using checkboxes."
   ]
  },
  {
   "cell_type": "code",
   "execution_count": 13,
   "metadata": {
    "scrolled": false
   },
   "outputs": [
    {
     "data": {
      "application/vnd.jupyter.widget-view+json": {
       "model_id": "93a328b32afc4efbb6e49e160740c5c2",
       "version_major": 2,
       "version_minor": 0
      },
      "text/plain": [
       "VBox(children=(Label(value='   SELECT CHARACTERISTICS: '), HBox(children=(VBox(children=(Label(value='   ṭāb‘'…"
      ]
     },
     "metadata": {},
     "output_type": "display_data"
    }
   ],
   "source": [
    "selector = SelectionGui(cm, 10)"
   ]
  },
  {
   "cell_type": "markdown",
   "metadata": {},
   "source": [
    "To extract the list of recordings from the previous interface, it is necessary to run the next cell. \n",
    "The resulting list contains all the Musicbrainz IDs of the selected recordings."
   ]
  },
  {
   "cell_type": "code",
   "execution_count": 14,
   "metadata": {
    "scrolled": true
   },
   "outputs": [
    {
     "name": "stdout",
     "output_type": "stream",
     "text": [
      "Number of tracks: 22\n"
     ]
    }
   ],
   "source": [
    "rmbid_list1 = selector.get_rmbid_list()\n",
    "print(\"Number of tracks: \" + str(len(rmbid_list1)))"
   ]
  },
  {
   "cell_type": "markdown",
   "metadata": {},
   "source": [
    "## Download mp3, score and Musicbrainz metadata"
   ]
  },
  {
   "cell_type": "markdown",
   "metadata": {},
   "source": [
    "With this function, it is possible to check the correctness of the list of Musicbrainz IDs. Incorrect IDs are showed."
   ]
  },
  {
   "cell_type": "code",
   "execution_count": 15,
   "metadata": {},
   "outputs": [
    {
     "name": "stdout",
     "output_type": "stream",
     "text": [
      "List of recordings in Dunya: \n",
      "['c20e4852-d140-4909-acab-e850c0e7d8e8', 'b3d92934-0946-4f2d-8183-312450d7e45e', '97223154-d5c2-4c37-8e6c-4c998056a674', '1630e9c2-3c01-4959-a633-7dbacbc7616e', 'd4cadf34-1074-44ce-9928-f438198d5d6d', '2d2683c4-4b3e-4430-a254-c828427bdcc7', '3e5a82a2-d806-45cc-876e-6fa8a2b5a61d', 'cb85269e-ab6c-4226-aea1-8226be1fe86c', '4342021d-03a1-4727-8c0f-3c23180ef374', '679856bc-132f-4982-b04e-cbf6b5b1129b', '9b546274-eea6-459f-a0c2-918f0997fa2b', '6fe7108c-4e4f-457b-a363-ccf505bdee9a', '44183247-4857-40cd-82bc-b4e9e3f458f1', '92de6fc8-a040-4500-bd94-73e9ee39f189', '33423585-e406-40ec-ba28-88b0768cb668', 'f461045b-50bc-4b20-a731-66fbd3a264ae', 'e3003cd0-430a-4481-a33d-c15c22da2404', 'e22549ae-4a0c-43ef-87f4-e0f81ed49d58', '5eb3c226-d289-40fe-a9f4-697568eb37d5', 'a1eac726-208e-4c24-bd57-e34e9e93dcd3', '9727ddbe-eb79-461b-9861-8a60336b17f6', '023b4a37-1ab4-4593-b03a-850ee0db8350']\n",
      "\n",
      "List of uncorrect recordings: \n",
      "[]\n"
     ]
    }
   ],
   "source": [
    "check_before_download(rmbid_list1, cm)"
   ]
  },
  {
   "cell_type": "markdown",
   "metadata": {},
   "source": [
    "The following interface allows to download the list of recordings previously selected. User can choose the type of data to download."
   ]
  },
  {
   "cell_type": "code",
   "execution_count": 17,
   "metadata": {
    "scrolled": true
   },
   "outputs": [
    {
     "data": {
      "application/vnd.jupyter.widget-view+json": {
       "model_id": "da297a457eb74a6c8a608497c45d21ad",
       "version_major": 2,
       "version_minor": 0
      },
      "text/plain": [
       "VBox(children=(HBox(children=(Label(value='Select data type:', layout=Layout(width='50%')), Label(value='Selec…"
      ]
     },
     "metadata": {},
     "output_type": "display_data"
    },
    {
     "name": "stdout",
     "output_type": "stream",
     "text": [
      "\n",
      "Downloading data for recording 679856bc-132f-4982-b04e-cbf6b5b1129b\n",
      " - Score downloaded\n",
      "\n",
      "Downloading data for recording 9b546274-eea6-459f-a0c2-918f0997fa2b\n",
      " - Score downloaded\n",
      "\n",
      "Downloading data for recording 5eb3c226-d289-40fe-a9f4-697568eb37d5\n",
      " - Score downloaded\n",
      "\n",
      "Downloading data for recording cb85269e-ab6c-4226-aea1-8226be1fe86c\n",
      " - Score downloaded\n",
      "\n",
      "Downloading data for recording 1630e9c2-3c01-4959-a633-7dbacbc7616e\n",
      " - Score downloaded\n",
      "\n",
      "Downloading data for recording 023b4a37-1ab4-4593-b03a-850ee0db8350\n",
      " - Score downloaded\n",
      "\n",
      "Downloading data for recording 2d2683c4-4b3e-4430-a254-c828427bdcc7\n",
      " - Score downloaded\n",
      "\n",
      "Downloading data for recording 4342021d-03a1-4727-8c0f-3c23180ef374\n",
      " - Score downloaded\n",
      "\n",
      "Downloading data for recording 44183247-4857-40cd-82bc-b4e9e3f458f1\n",
      " - Score downloaded\n",
      "\n",
      "Downloading data for recording 9727ddbe-eb79-461b-9861-8a60336b17f6\n",
      " - Score downloaded\n",
      "\n",
      "Downloading data for recording f461045b-50bc-4b20-a731-66fbd3a264ae\n",
      " - Score downloaded\n",
      "\n",
      "Downloading data for recording 3e5a82a2-d806-45cc-876e-6fa8a2b5a61d\n",
      " - Score downloaded\n",
      "\n",
      "Downloading data for recording b3d92934-0946-4f2d-8183-312450d7e45e\n",
      " - Score downloaded\n",
      "\n",
      "Downloading data for recording 6fe7108c-4e4f-457b-a363-ccf505bdee9a\n",
      " - Score downloaded\n",
      "\n",
      "Downloading data for recording 33423585-e406-40ec-ba28-88b0768cb668\n",
      " - Score downloaded\n",
      "\n",
      "Downloading data for recording a1eac726-208e-4c24-bd57-e34e9e93dcd3\n",
      " - Score downloaded\n",
      "\n",
      "Downloading data for recording 97223154-d5c2-4c37-8e6c-4c998056a674\n",
      " - Score downloaded\n",
      "\n",
      "Downloading data for recording e3003cd0-430a-4481-a33d-c15c22da2404\n",
      " - Score downloaded\n",
      "\n",
      "Downloading data for recording d4cadf34-1074-44ce-9928-f438198d5d6d\n",
      " - Score downloaded\n",
      "\n",
      "Downloading data for recording e22549ae-4a0c-43ef-87f4-e0f81ed49d58\n",
      " - Score downloaded\n",
      "\n",
      "Downloading data for recording 92de6fc8-a040-4500-bd94-73e9ee39f189\n",
      " - Score downloaded\n",
      "\n",
      "Downloading data for recording c20e4852-d140-4909-acab-e850c0e7d8e8\n",
      " - Score downloaded\n",
      "\n",
      "Download complete\n"
     ]
    }
   ],
   "source": [
    "downloader = DownloadGui(rmbid_list1, cm)"
   ]
  },
  {
   "cell_type": "markdown",
   "metadata": {},
   "source": [
    "## Compute recordings \n",
    "The following interface allows to analyse a list of recordings. User can decide to analyse the pitch and to convert mp3s into wav files. The results of the pitch analysis consist in JSON files containing pitch profile, pitch distribution and tonic frequency. It is possible to export results also in txt format, in order to study a recording using the spectrogram tool of Sonic Visualizer.\n",
    "\n",
    "#### NB: a new list of recordings can be created using the selection widget"
   ]
  },
  {
   "cell_type": "code",
   "execution_count": null,
   "metadata": {
    "scrolled": false
   },
   "outputs": [],
   "source": [
    "analyzer = ComputationGui(rmbid_list1, cm)"
   ]
  },
  {
   "cell_type": "markdown",
   "metadata": {},
   "source": [
    "## Test"
   ]
  },
  {
   "cell_type": "code",
   "execution_count": null,
   "metadata": {},
   "outputs": [],
   "source": []
  }
 ],
 "metadata": {
  "kernelspec": {
   "display_name": "Python 3",
   "language": "python",
   "name": "python3"
  },
  "language_info": {
   "codemirror_mode": {
    "name": "ipython",
    "version": 3
   },
   "file_extension": ".py",
   "mimetype": "text/x-python",
   "name": "python",
   "nbconvert_exporter": "python",
   "pygments_lexer": "ipython3",
   "version": "3.7.2"
  }
 },
 "nbformat": 4,
 "nbformat_minor": 2
}
